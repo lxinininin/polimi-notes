{
  "cells": [
    {
      "cell_type": "code",
      "execution_count": 1,
      "metadata": {
        "colab": {
          "base_uri": "https://localhost:8080/"
        },
        "id": "_B5aaDDAOaXD",
        "outputId": "714d128d-fcc4-4314-f17d-c876084c8782"
      },
      "outputs": [
        {
          "output_type": "stream",
          "name": "stdout",
          "text": [
            "Looking in indexes: https://pypi.org/simple, https://us-python.pkg.dev/colab-wheels/public/simple/\n",
            "Requirement already satisfied: cffi==1.15.0 in /usr/local/lib/python3.7/dist-packages (1.15.0)\n",
            "Requirement already satisfied: pycparser in /usr/local/lib/python3.7/dist-packages (from cffi==1.15.0) (2.21)\n",
            "Looking in indexes: https://pypi.org/simple, https://us-python.pkg.dev/colab-wheels/public/simple/\n",
            "Collecting mip\n",
            "  Using cached mip-1.14.1-py3-none-any.whl (15.3 MB)\n",
            "Requirement already satisfied: cffi==1.15.0 in /usr/local/lib/python3.7/dist-packages (from mip) (1.15.0)\n",
            "Requirement already satisfied: pycparser in /usr/local/lib/python3.7/dist-packages (from cffi==1.15.0->mip) (2.21)\n",
            "Installing collected packages: mip\n",
            "Successfully installed mip-1.14.1\n"
          ]
        }
      ],
      "source": [
        "# When using Colab, make sure you run this instruction beforehand\n",
        "!pip install --upgrade cffi==1.15.0\n",
        "import importlib\n",
        "import cffi\n",
        "importlib.reload(cffi)\n",
        "!pip install mip"
      ]
    },
    {
      "cell_type": "markdown",
      "metadata": {
        "id": "JPIbi_-3YhkP"
      },
      "source": [
        "## Purification plant location\n",
        "\n",
        "We are to choose the building site for a set of water purification plants, among 12 areas $A_1$,...,$A_{12}$, which are close to 5 cities $C_1$,...,$C_5$. Each area can serve simultaneously all the\n",
        "cities indicated with the symbol \"*\". The second last line reports the purification capacity, in tons/year, of each facility (which depends on the site where the facility is built). The last line\n",
        "reports the building cost, in MEuro\n",
        "\n",
        "Cities|$A_1$|$A_2$|$A_3$|$A_4$|$A_5$|$A_6$|$A_7$|$A_8$|$A_9$|$A_{10}$|$A_{11}$|$A_{12}$|\n",
        "------|-----|-----|-----|-----|-----|-----|-----|-----|-----|--------|--------|-------|\n",
        "$C_1$| *|-|*|-|*|-|*|*|-|-|*|-\n",
        "$C_2$| -|*|*|-|-|*|-|-|*|-|*|*\n",
        "$C_3$| *|*|-|-|-|*|*|-|-|*|-|-\n",
        "$C_4$| -|*|-|*|-|-|*|*|-|*|-|*\n",
        "$C_5$| -|-|-|*|*|*|-|-|*|*|*|*\n",
        "------|-----|-----|-----|-----|-----|-----|-----|-----|-----|--------|--------|-------|\n",
        "Capacity|15|39|26|31|34|24|51|19|18|36|41|34\n",
        "Cost|7|9|12|3|4|4|5|11|8|6|7|16\n",
        "\n",
        "For each city, at least one close-by purification plant must be built.\n",
        "\n",
        "\n",
        "1. Give an integer linear programming formulation for the problem of minimizing the total building cost.\n",
        "2. Give an integer linear programming formulation for the variant where each city can have only one purification plant nearby.\n",
        "3. Give an integer linear programming formulation for the variant where the total quantity of purified water must be nonsmaller than  $120 \\cdot 10^9$ kg/year"
      ]
    },
    {
      "cell_type": "code",
      "execution_count": 2,
      "metadata": {
        "id": "dNvl2ccUObuz"
      },
      "outputs": [],
      "source": [
        "import mip\n",
        "import numpy as np\n",
        "from mip import BINARY, INTEGER"
      ]
    },
    {
      "cell_type": "code",
      "execution_count": 3,
      "metadata": {
        "id": "AyGdauaoOhBR"
      },
      "outputs": [],
      "source": [
        "# Number of cities\n",
        "m = 5\n",
        "# Number of areas\n",
        "n = 12\n",
        "\n",
        "# Cost for each areas\n",
        "c = [7, 9, 12, 3, 4, 4, 5, 11, 8, 6, 7, 16]\n",
        "# Capacity for each areas\n",
        "b = [15, 39, 26, 31, 34, 24, 51, 19, 18, 36, 41, 34]\n",
        "\n",
        "# Area that can serve simultaneously cities\n",
        "a = np.array([[1, 0, 1, 0, 1, 0, 1, 1, 0, 0, 0, 0],\n",
        "     [0, 1, 1, 0, 0, 1, 0, 0, 1, 0, 1, 1],\n",
        "     [1, 1, 0, 0, 0, 1, 1, 0, 0, 1, 0, 0],\n",
        "     [0, 1, 0, 1, 0, 0, 1, 1, 0, 1, 0, 1],\n",
        "     [0, 0, 0, 1, 1, 1, 0, 0, 1, 1, 1, 1]])\n",
        "# Total quantity of purified water\n",
        "Q = 120"
      ]
    },
    {
      "cell_type": "code",
      "execution_count": null,
      "metadata": {
        "id": "-CChQLDnQY0h"
      },
      "outputs": [],
      "source": [
        "# definition of model"
      ]
    },
    {
      "cell_type": "code",
      "execution_count": null,
      "metadata": {
        "id": "pe25r-T3QcXc"
      },
      "outputs": [],
      "source": [
        "# definition of variables"
      ]
    },
    {
      "cell_type": "code",
      "execution_count": null,
      "metadata": {
        "id": "3D3IWj3-luZQ"
      },
      "outputs": [],
      "source": [
        "# definition of the objective function"
      ]
    },
    {
      "cell_type": "code",
      "execution_count": null,
      "metadata": {
        "id": "R2q0kqIYqFSv"
      },
      "outputs": [],
      "source": [
        "# Covering constraint\n"
      ]
    },
    {
      "cell_type": "code",
      "execution_count": null,
      "metadata": {
        "id": "2FE-_iOErDWv"
      },
      "outputs": [],
      "source": [
        "# optimizing\n"
      ]
    },
    {
      "cell_type": "code",
      "execution_count": null,
      "metadata": {
        "id": "kRvHnvvUrR3i"
      },
      "outputs": [],
      "source": [
        "# Objective function values\n"
      ]
    },
    {
      "cell_type": "code",
      "execution_count": null,
      "metadata": {
        "id": "qHqtAqsEp_wf"
      },
      "outputs": [],
      "source": [
        "# Partitioning model\n"
      ]
    },
    {
      "cell_type": "code",
      "execution_count": null,
      "metadata": {
        "id": "Elz1qiv5R8Bc"
      },
      "outputs": [],
      "source": [
        "# Partitioning constraint\n"
      ]
    },
    {
      "cell_type": "code",
      "execution_count": null,
      "metadata": {
        "id": "r_L2g_IDrxLf"
      },
      "outputs": [],
      "source": [
        "# optimizing\n"
      ]
    },
    {
      "cell_type": "code",
      "execution_count": null,
      "metadata": {
        "id": "EQmyhvi2q22O"
      },
      "outputs": [],
      "source": [
        "# Third question model"
      ]
    },
    {
      "cell_type": "code",
      "execution_count": null,
      "metadata": {
        "colab": {
          "base_uri": "https://localhost:8080/"
        },
        "id": "7x1PJi2kSf9L",
        "outputId": "ead2932f-25f1-47e0-a424-b133e9588cd4"
      },
      "outputs": [
        {
          "data": {
            "text/plain": [
              "<mip.entities.Constr at 0x7ff25fe49280>"
            ]
          },
          "execution_count": 19,
          "metadata": {},
          "output_type": "execute_result"
        }
      ],
      "source": [
        "# Covering constraint\n",
        "\n",
        "\n",
        "# Quantity constraint\n"
      ]
    },
    {
      "cell_type": "code",
      "execution_count": null,
      "metadata": {
        "id": "Rhjz958CrGIx"
      },
      "outputs": [],
      "source": [
        "# optimizing\n"
      ]
    },
    {
      "cell_type": "code",
      "execution_count": null,
      "metadata": {
        "colab": {
          "base_uri": "https://localhost:8080/"
        },
        "id": "-7TtS3xFTVg-",
        "outputId": "c3a458b7-b608-4b62-c727-894c0a793f10"
      },
      "outputs": [
        {
          "data": {
            "text/plain": [
              "9.0"
            ]
          },
          "execution_count": 40,
          "metadata": {},
          "output_type": "execute_result"
        }
      ],
      "source": [
        "# Objective function values\n"
      ]
    },
    {
      "cell_type": "code",
      "execution_count": null,
      "metadata": {
        "id": "UhBMNTl2Tb7i",
        "scrolled": true
      },
      "outputs": [],
      "source": [
        "# variables values\n",
        "for i in model.vars:\n",
        "    print(i.name, i.x)"
      ]
    },
    {
      "cell_type": "markdown",
      "metadata": {
        "id": "cWp6S9Fwkj0W"
      },
      "source": [
        "## Set Covering greedy algorithm\n",
        "Many real-world optimization problems can be expressed as variants or extensions of the set cover problem. We define a finite set of objects $U = \\{x_1, . . . , x_m\\}$ as the universe, and S = $\\{s_1, . . . , s_n\\}$ a collection of subsets of $U$, such that every element of $U$ belongs to at least one set of $S$.\n",
        "\n",
        "\n",
        "**input**: collection $S$ of sets over universe $U$, costs $c: S → \\mathbb{R}_+$\n",
        "\n",
        "**output**: set cover $C$\n",
        "\n",
        "1. Let $C \\gets \\emptyset$;\n",
        "2. Repeat until $C$ is a set cover;\n",
        "3. Find a set $s \\in S$ maximizing the number of elements in $s$ not yet covered by any set in $C$, divided by the cost $c_s$;\n",
        "4. Add $s$ to C;\n",
        "5. Return $C$."
      ]
    },
    {
      "cell_type": "markdown",
      "metadata": {
        "id": "jo-M9VYTbE3i"
      },
      "source": [
        "Some theorethical results can be proved for the worst case quality scenario. For instance in [1,2,3] it was proved that: \n",
        "\n",
        "**Theorem** The greedy set-cover algorithm returns a set cover of cost at most $H(d)$ opt, where opt is the minimum cost of any set cover, $d=\\max_{s∈S}\\{|s|\\}$ is the maximum set size, and $H(d)$≈$0.58+\\ln(d)$ is the $d$-th Harmonic number.\n",
        "\n",
        "The logarithmic approximation guarantee is the best possible in the following sense: if P≠NP, in the worst case, no polynomial-time algorithm guarantees a cover of cost $o$(opt $\\log(n)$), where $n=|U|$ is the number of elements to be covered.\n",
        "\n",
        "Bibliography\n",
        "\n",
        "[1]\tV. Chvátal. A greedy heuristic for the set-covering problem. Math. Operations Research, 4:233–235, 1979.\n",
        "\n",
        "[2]\tD. S. Johnson. Approximation algorithms for combinatorial problems. J. Computer System Sciences, 9:256–278, 1974.\n",
        "\n",
        "[3]\tL. Lovász. On the ratio of optimal integral and fractional covers. Discrete Mathematics, 13:383–390, 1975.\n"
      ]
    },
    {
      "cell_type": "code",
      "execution_count": null,
      "metadata": {
        "id": "0xR0I2tSpLzn"
      },
      "outputs": [],
      "source": [
        "# implementation of set covering greedy algorithm\n",
        "# input matrix a and c defined above\n",
        "def set_cover(a, c):\n",
        "    # number of subsets\n",
        "    n_subset = a.shape[1]\n",
        "    # subsets\n",
        "    subsets = [set(np.where(a[:, i] == 1)[0]) for i in range(n_subset)]\n",
        "    # universe\n",
        "    U = set(range(a.shape[0]))\n",
        "    # set containing singular elements of each subsets\n",
        "    elements = set(e for s in subsets for e in s)\n",
        "    # Check the subsets cover the universe\n",
        "    if elements != U:\n",
        "        return None\n",
        "    covered = set()\n",
        "    C = []\n",
        "    # Greedily add the subsets maximizing the number of elements in it not yet covered by any set dound so far, divided by its cost\n",
        "    while covered != elements:\n",
        "        # TO DO\n",
        " \n",
        "    return C"
      ]
    }
  ],
  "metadata": {
    "colab": {
      "provenance": [],
      "collapsed_sections": []
    },
    "kernelspec": {
      "display_name": "Python 3",
      "language": "python",
      "name": "python3"
    },
    "language_info": {
      "codemirror_mode": {
        "name": "ipython",
        "version": 3
      },
      "file_extension": ".py",
      "mimetype": "text/x-python",
      "name": "python",
      "nbconvert_exporter": "python",
      "pygments_lexer": "ipython3",
      "version": "3.6.8"
    }
  },
  "nbformat": 4,
  "nbformat_minor": 0
}