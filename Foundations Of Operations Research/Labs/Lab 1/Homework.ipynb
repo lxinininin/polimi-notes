{
  "cells": [
    {
      "cell_type": "markdown",
      "metadata": {
        "id": "Tcgpium3ZPJV"
      },
      "source": [
        "## Electronic device manufacturing\n",
        "\n",
        "A manager has to plan the production for his firm for a single day. Five models of electronic devices can be produced, exploiting the handwork of 3 workers. The time needed by each worker to manufacture an electronic device of each model is indicated in the following table (hours/unit):\n",
        "\n",
        "Model/Worker|1|2|3\n",
        "------------|-|-|-\n",
        "1|1.5|3.5|4\n",
        "2|1.8|2|3\n",
        "3|2|1|2.5\n",
        "4|2.5|1.5|3.5\n",
        "5|3.5|3.5|4.2\n",
        "\n",
        "Due to production constraints imposed by the unions, each worker must work no less than 8 hours a day, but no more than 10.\n",
        "\n",
        "The table below indicates, for each model of device, the selling price and an estimation of the maximal market demand:\n",
        "\n",
        "Model|Price|Demand\n",
        "-----|-----|------\n",
        "1|56|4\n",
        "2|86|3\n",
        "3|45|3\n",
        "4|42|5\n",
        "5|65|8\n",
        "\n",
        "Give an integer linear programming formulation to the problem of maximizing the revenue,\n",
        "subject to production and demand constraints."
      ]
    },
    {
      "cell_type": "code",
      "execution_count": null,
      "metadata": {
        "colab": {
          "base_uri": "https://localhost:8080/"
        },
        "id": "NE7tSQFlZSML",
        "outputId": "6d96c5f6-877c-47a8-97c6-a33b60573d63"
      },
      "outputs": [
        {
          "output_type": "stream",
          "name": "stdout",
          "text": [
            "Looking in indexes: https://pypi.org/simple, https://us-python.pkg.dev/colab-wheels/public/simple/\n",
            "Requirement already satisfied: mip in /usr/local/lib/python3.7/dist-packages (1.14.1)\n",
            "Requirement already satisfied: cffi==1.15.0 in /usr/local/lib/python3.7/dist-packages (from mip) (1.15.0)\n",
            "Requirement already satisfied: pycparser in /usr/local/lib/python3.7/dist-packages (from cffi==1.15.0->mip) (2.21)\n"
          ]
        }
      ],
      "source": [
        "# When using Colab, make sure you run this instruction beforehand\n",
        "!pip install mip"
      ]
    },
    {
      "cell_type": "code",
      "execution_count": null,
      "metadata": {
        "id": "WCQpxLhbZSfh"
      },
      "outputs": [],
      "source": [
        "# We need to import the package mip\n",
        "import mip\n",
        "from mip import INTEGER"
      ]
    },
    {
      "cell_type": "code",
      "execution_count": null,
      "metadata": {
        "id": "rXaiWfjrZb3i"
      },
      "outputs": [],
      "source": [
        "# Set of workers\n",
        "I = \n",
        "\n",
        "# Set of electronic devices\n",
        "J = \n",
        "\n",
        "# Manufacturing time for workers and model of electronic devices\n",
        "t = \n",
        "\n",
        "# Selling price for model of electronic devices\n",
        "p = \n",
        "\n",
        "# Demand for model of electrnic devices\n",
        "d = \n",
        "\n",
        "# Minimum amount of working hours\n",
        "T_min = \n",
        "\n",
        "# Maximum amount of working hours\n",
        "T_max = "
      ]
    },
    {
      "cell_type": "markdown",
      "metadata": {
        "id": "YdJ_k8ITdMhm"
      },
      "source": [
        "Now we create an empty model and add the variables:"
      ]
    },
    {
      "cell_type": "code",
      "execution_count": null,
      "metadata": {
        "id": "jzUlEOEOatR-"
      },
      "outputs": [],
      "source": [
        "# Define a model\n",
        "model = mip.Model()\n",
        "\n",
        "# Define variables\n",
        "x = {}"
      ]
    },
    {
      "cell_type": "markdown",
      "metadata": {
        "id": "pSh0Z7r8fSxk"
      },
      "source": [
        "Now we create the objective function:"
      ]
    },
    {
      "cell_type": "code",
      "execution_count": null,
      "metadata": {
        "id": "sCjgs6Pvd44f"
      },
      "outputs": [],
      "source": [
        "# Define the objective function\n",
        "model.objective = mip.maximize()"
      ]
    },
    {
      "cell_type": "markdown",
      "metadata": {
        "id": "f5g6ka6hfq8M"
      },
      "source": [
        "The constraints can be generated in loops:"
      ]
    },
    {
      "cell_type": "code",
      "execution_count": null,
      "metadata": {
        "id": "uk13yONTfluc"
      },
      "outputs": [],
      "source": [
        "# CONSTRAINTS\n",
        "# Minimum working hours\n",
        "for i in I:\n",
        "  model.add_constr()\n",
        "\n",
        "# Maximum working hours\n",
        "for i in I:\n",
        "  model.add_constr()\n",
        "\n",
        "# Maximum quantity\n",
        "for j in J:\n",
        "  model.add_constr()"
      ]
    },
    {
      "cell_type": "markdown",
      "metadata": {
        "id": "_1if6R03ihk7"
      },
      "source": [
        "The model is complete. Let us solve it and print the optimal solution."
      ]
    },
    {
      "cell_type": "code",
      "execution_count": null,
      "metadata": {
        "colab": {
          "base_uri": "https://localhost:8080/"
        },
        "id": "iGEXO8zLckSb",
        "outputId": "319f795d-3adf-4047-a735-90d6e9ea37ec"
      },
      "outputs": [
        {
          "output_type": "execute_result",
          "data": {
            "text/plain": [
              "<OptimizationStatus.OPTIMAL: 0>"
            ]
          },
          "metadata": {},
          "execution_count": 14
        }
      ],
      "source": [
        "# Optimizing command\n",
        "model.optimize()"
      ]
    },
    {
      "cell_type": "code",
      "execution_count": null,
      "metadata": {
        "colab": {
          "base_uri": "https://localhost:8080/"
        },
        "id": "MsvXb6K0bf2I",
        "outputId": "760bbfd1-b429-4ea9-bb6f-4f742a0875d1"
      },
      "outputs": [
        {
          "output_type": "execute_result",
          "data": {
            "text/plain": [
              "1073.0"
            ]
          },
          "metadata": {},
          "execution_count": 15
        }
      ],
      "source": [
        "# Optimal objective function value\n",
        "model.objective.x"
      ]
    },
    {
      "cell_type": "code",
      "execution_count": null,
      "metadata": {
        "colab": {
          "base_uri": "https://localhost:8080/"
        },
        "id": "Tbbi1xvgin3j",
        "outputId": "0132bf59-888b-4c7c-cafb-84503a1464db"
      },
      "outputs": [
        {
          "output_type": "stream",
          "name": "stdout",
          "text": [
            "(0,0) 4.0\n",
            "(0,1) 2.0\n",
            "(0,2) 0.0\n",
            "(0,3) 0.0\n",
            "(0,4) 0.0\n",
            "(1,0) 0.0\n",
            "(1,1) 0.0\n",
            "(1,2) 2.0\n",
            "(1,3) 5.0\n",
            "(1,4) 0.0\n",
            "(2,0) 0.0\n",
            "(2,1) 1.0\n",
            "(2,2) 1.0\n",
            "(2,3) 0.0\n",
            "(2,4) 1.0\n"
          ]
        }
      ],
      "source": [
        "# Printing the variables values\n",
        "for i in model.vars:\n",
        "  print(i.name, i.x)"
      ]
    }
  ],
  "metadata": {
    "colab": {
      "provenance": [],
      "collapsed_sections": []
    },
    "kernelspec": {
      "display_name": "Python 3",
      "language": "python",
      "name": "python3"
    },
    "language_info": {
      "codemirror_mode": {
        "name": "ipython",
        "version": 3
      },
      "file_extension": ".py",
      "mimetype": "text/x-python",
      "name": "python",
      "nbconvert_exporter": "python",
      "pygments_lexer": "ipython3",
      "version": "3.6.8"
    }
  },
  "nbformat": 4,
  "nbformat_minor": 0
}