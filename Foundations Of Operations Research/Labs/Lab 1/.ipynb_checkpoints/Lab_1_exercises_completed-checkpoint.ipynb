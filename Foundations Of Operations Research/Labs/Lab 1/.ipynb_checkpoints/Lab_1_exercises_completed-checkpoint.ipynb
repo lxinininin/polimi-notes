{
  "cells": [
    {
      "cell_type": "markdown",
      "metadata": {
        "id": "FAse1j30FvNd"
      },
      "source": [
        "## Diet problem\n",
        "\n",
        "A canteen has to plan the composition of the meals that it provides. A meal can be composed of the types of food indicated in the following table. Costs, in Euro per hg, and availabilities, in hg, are also indicated.\n",
        "\n",
        "Food|Cost|Availability\n",
        "----|----|------------\n",
        "Bread|0.1|4\n",
        "Milk|0.5|3\n",
        "Eggs|0.12|1\n",
        "Meat|0.9|2\n",
        "Cake|1.3|2\n",
        "\n",
        "A meal must contain at least the following amount of each nutrient\n",
        "\n",
        "Nutrient|Minimal quantity\n",
        "--------|----------------\n",
        "Calories|600 cal\n",
        "Proteins|50 g\n",
        "Calcium|0.7 g\n",
        "\n",
        "Each hg of each type of food contains to following amount of nutrients\n",
        "\n",
        "Food|Calories|Proteins|Calcium\n",
        "----|--------|--------|-------\n",
        "Bread|30 cal|5 g|0.02 g\n",
        "Milk|50 cal|15 g|0.15 g\n",
        "Eggs|150 cal|30 g|0.05 g\n",
        "Meat|180 cal|90 g|0.08 g\n",
        "Cake|400 cal|70 g|0.01 g\n",
        "\n",
        "Give a linear programming formulation for the problem of finding a diet (a meal) of minimum total cost which satisfies the minimum nutrient requirements."
      ]
    },
    {
      "cell_type": "markdown",
      "source": [
        "Sets:\n",
        "* $I$ = Type of foods\n",
        "* $J$ = Type of nutrients\n",
        "\n",
        "Parameters:\n",
        "* $c_{i}$ = cost of food $i \\in I$\n",
        "* $q_{i}$ = availability of food $i \\in I$\n",
        "* $b_{j}$ = minimum requirement of nutrient $j \\in J$\n",
        "* $a_{ij}$ = amount of nutrient $j \\in J$ in food type $i \\in I$\n",
        "\n",
        "Decision Variables:\n",
        "* $x_{i}$ = amount of food $i$\n",
        "\n",
        "Objective function:\n",
        "* $\\displaystyle \\min \\sum_{i \\in I}c_{i}x_{i}$\n",
        "\n",
        "Constraints:\n",
        "* $x_{i} \\leq q_{i} \\space \\forall i \\in I$ (Availability)\n",
        "* $\\displaystyle \\sum_{i \\in I}a_{ij}x_{i} \\geq b_{j} \\space \\forall j \\in J$ (Nutrients)\n",
        "\n"
      ],
      "metadata": {
        "id": "TZQ0mzk1JaqI"
      }
    },
    {
      "cell_type": "code",
      "execution_count": 1,
      "metadata": {
        "colab": {
          "base_uri": "https://localhost:8080/",
          "height": 0
        },
        "id": "fkHlfBr8FvNf",
        "outputId": "4dbfff8b-0f3b-492b-f05a-5c089832fece"
      },
      "outputs": [
        {
          "output_type": "stream",
          "name": "stdout",
          "text": [
            "Requirement already satisfied: mip in /usr/local/lib/python3.10/dist-packages (1.15.0)\n",
            "Requirement already satisfied: cffi==1.15.* in /usr/local/lib/python3.10/dist-packages (from mip) (1.15.1)\n",
            "Requirement already satisfied: pycparser in /usr/local/lib/python3.10/dist-packages (from cffi==1.15.*->mip) (2.22)\n"
          ]
        }
      ],
      "source": [
        "# When using Colab, make sure you run this instruction beforehand\n",
        "!pip install mip"
      ]
    },
    {
      "cell_type": "code",
      "execution_count": 2,
      "metadata": {
        "id": "yr-SEPKwFvNg"
      },
      "outputs": [],
      "source": [
        "# We need to import the package mip\n",
        "import mip"
      ]
    },
    {
      "cell_type": "code",
      "execution_count": 7,
      "metadata": {
        "id": "emiHieGMkTVg"
      },
      "outputs": [],
      "source": [
        "# We can use dictionaries {key:value} to represent sets and parameters\n",
        "# Food\n",
        "I = {'Bread', 'Milk', 'Eggs', 'Meat', 'Cake'}\n",
        "\n",
        "# Nutrients\n",
        "J = {'Calories', 'Proteins', 'Calcium'}\n",
        "\n",
        "# Cost in Euro per hg of food\n",
        "c = {'Bread':0.1, 'Milk':0.5, 'Eggs':0.12, 'Meat':0.9, 'Cake':1.3}\n",
        "\n",
        "# Availability per hg of food\n",
        "q = {'Bread':4, 'Milk':3, 'Eggs':1, 'Meat':2, 'Cake':2}\n",
        "\n",
        "# Minimum nutrients\n",
        "b = {'Calories':600, 'Proteins':50, 'Calcium':0.7}\n",
        "\n",
        "# Nutrients per hf of food\n",
        "a = {('Bread','Calories'):30,('Milk','Calories'):50,('Eggs','Calories'):150,('Meat','Calories'):180,('Cake','Calories'):400,\n",
        "('Bread','Proteins'):5,('Milk','Proteins'):15,('Eggs','Proteins'):30,('Meat','Proteins'):90,('Cake','Proteins'):70,\n",
        "('Bread','Calcium'):0.02,('Milk','Calcium'):0.15,('Eggs','Calcium'):0.05,('Meat','Calcium'):0.08,('Cake','Calcium'):0.01}"
      ]
    },
    {
      "cell_type": "code",
      "source": [
        "# Check\n",
        "for i in I:\n",
        "  print(c[i])"
      ],
      "metadata": {
        "colab": {
          "base_uri": "https://localhost:8080/",
          "height": 0
        },
        "id": "A6nim4rMWHds",
        "outputId": "34c5b8be-5999-46d8-f19b-3af0a0a1f93f"
      },
      "execution_count": 8,
      "outputs": [
        {
          "output_type": "stream",
          "name": "stdout",
          "text": [
            "1.3\n",
            "0.1\n",
            "0.9\n",
            "0.5\n",
            "0.12\n"
          ]
        }
      ]
    },
    {
      "cell_type": "markdown",
      "metadata": {
        "id": "SVu_FF2-FvNg"
      },
      "source": [
        "Now we create an empty model and add the variables"
      ]
    },
    {
      "cell_type": "code",
      "execution_count": 9,
      "metadata": {
        "id": "pSvGnxiao6Zl"
      },
      "outputs": [],
      "source": [
        "# Define a model\n",
        "model = mip.Model() # create an empty model\n",
        "\n",
        "# Define variables\n",
        "x = {i : model.add_var(name = i) for i in I}"
      ]
    },
    {
      "cell_type": "code",
      "source": [
        "# Check\n",
        "print(x['Bread'])"
      ],
      "metadata": {
        "colab": {
          "base_uri": "https://localhost:8080/",
          "height": 0
        },
        "id": "OfbBA2oqWuC9",
        "outputId": "70c28bfb-0866-497e-b421-dddd9e00e4c3"
      },
      "execution_count": 11,
      "outputs": [
        {
          "output_type": "stream",
          "name": "stdout",
          "text": [
            "Bread\n"
          ]
        }
      ]
    },
    {
      "cell_type": "markdown",
      "metadata": {
        "id": "SSRE-FcXFvNg"
      },
      "source": [
        "Let's write the objective function: in the general case, it can be written as a sum over the set of models."
      ]
    },
    {
      "cell_type": "code",
      "execution_count": 12,
      "metadata": {
        "id": "GM2sOSkJpVza"
      },
      "outputs": [],
      "source": [
        "# Define the objective function\n",
        "# minimize c[0]*x[0] + c[1]*x[1] ...\n",
        "model.objective = mip.minimize(mip.xsum(c[i]*x[i] for i in I))"
      ]
    },
    {
      "cell_type": "markdown",
      "metadata": {
        "id": "83dn_hs8FvNg"
      },
      "source": [
        "The constraints can be generated in loops:"
      ]
    },
    {
      "cell_type": "code",
      "execution_count": 13,
      "metadata": {
        "id": "JeNTerfsqFjS"
      },
      "outputs": [],
      "source": [
        "# CONSTRAINTS\n",
        "\n",
        "# Availability constraint\n",
        "for i in I:\n",
        "  model.add_constr(x[i] <= q[i])\n",
        "\n",
        "# Minimum nutrients\n",
        "for j in J:\n",
        "  model.add_constr(mip.xsum(a[i, j]*x[i] for i in I) >= b[j])"
      ]
    },
    {
      "cell_type": "markdown",
      "metadata": {
        "id": "-CrvrV9GFvNh"
      },
      "source": [
        "The model is complete. Let's solve it and print the optimal solution."
      ]
    },
    {
      "cell_type": "code",
      "execution_count": 14,
      "metadata": {
        "colab": {
          "base_uri": "https://localhost:8080/",
          "height": 0
        },
        "id": "u2EOpR5zrlfr",
        "outputId": "24d5c60e-2038-4450-adac-350409ed530d"
      },
      "outputs": [
        {
          "output_type": "execute_result",
          "data": {
            "text/plain": [
              "<OptimizationStatus.OPTIMAL: 0>"
            ]
          },
          "metadata": {},
          "execution_count": 14
        }
      ],
      "source": [
        "# Optimizing command\n",
        "model.optimize()"
      ]
    },
    {
      "cell_type": "code",
      "execution_count": 15,
      "metadata": {
        "colab": {
          "base_uri": "https://localhost:8080/",
          "height": 0
        },
        "id": "SptErh70xQFd",
        "outputId": "2569b559-ca11-4412-b553-524b4e62d05c"
      },
      "outputs": [
        {
          "output_type": "execute_result",
          "data": {
            "text/plain": [
              "3.37"
            ]
          },
          "metadata": {},
          "execution_count": 15
        }
      ],
      "source": [
        "# Optimal objective function value\n",
        "model.objective.x"
      ]
    },
    {
      "cell_type": "code",
      "execution_count": 16,
      "metadata": {
        "colab": {
          "base_uri": "https://localhost:8080/",
          "height": 0
        },
        "id": "1GmrXIDUxhtA",
        "outputId": "1162ac09-12c6-4297-845c-cfa165a71667"
      },
      "outputs": [
        {
          "output_type": "stream",
          "name": "stdout",
          "text": [
            "Cake\n",
            "0.0\n",
            "Bread\n",
            "3.9999999999999996\n",
            "Meat\n",
            "1.5000000000000002\n",
            "Milk\n",
            "3.0\n",
            "Eggs\n",
            "1.0\n"
          ]
        }
      ],
      "source": [
        "# Printing the variables values\n",
        "for i in model.vars:\n",
        "  print(i.name)\n",
        "  print(i.x)"
      ]
    },
    {
      "cell_type": "markdown",
      "metadata": {
        "id": "6kLjPnRIFvNh"
      },
      "source": [
        "## Oil blending problem\n",
        "\n",
        "A refinery has to blend 4 types of oil to obtain 3 types of gasoline. The following table reports the available quantity of oil of each type (in barrels) and the respective unit cost (Euro per barrel)\n",
        "\n",
        "Oil type|Cost|Availability\n",
        "--------|----|------------\n",
        "1|9|5000\n",
        "2|7|2400\n",
        "3|12|4000\n",
        "4|6|1500\n",
        "\n",
        "\n",
        "Blending constraints are to be taken into account, since each type of gasoline must contain at least a specific, predefined, quantity of each type of oil, as indicated in the next table. The unit revenue of each type of gasoline (Euro per barrel) is also indicated\n",
        "\n",
        "Gasoline type|Requirements|Revenue\n",
        "-------------|------------|-------\n",
        "A|$\\geq$ 20% of type 2| 12\n",
        "A|$\\leq$ 30% of type 3|12\n",
        "B|$\\geq$ 40% of type 3|18\n",
        "C|$\\leq$ 50% of type 2|10\n"
      ]
    },
    {
      "cell_type": "markdown",
      "source": [
        "Sets:\n",
        "* $I$ = Type of oil\n",
        "* $J$ = Type of gasoline\n",
        "\n",
        "Parameters:\n",
        "* $c_{j}$ = Cost of oil $i \\in I$\n",
        "* $q_{i}$ = Availabilty of oil $i \\in I$\n",
        "* $r_{j}$ = Price of gasoline $j \\in J$\n",
        "* $q_{ij}^{min}$ = Minimum amount of oil $i \\in I$ in $j \\in J$\n",
        "* $q_{ij}^{max}$ = Maximum amount of oil $i \\in I$ in $j \\in J$\n",
        "\n",
        "Decision variables:\n",
        "* $x_{ij}$ = Amount of oil $i \\in I$ goes into $j \\in J$\n",
        "* $y_{j}$ = Amount of $j \\in J$\n",
        "\n",
        "Objective function:\n",
        "* $\\max \\displaystyle \\{\\sum_{j \\in J} r_{j}y_{j} - \\sum_{i \\in I} \\sum_{j \\in J}c_{i}x_{ij} \\}$ (Revenue)\n",
        "\n",
        "Constraints:\n",
        "* $\\displaystyle \\sum_{j \\in J}x_{ij} \\leq q_{i} \\space \\forall i \\in I$ (Availability)\n",
        "* $\\displaystyle \\frac{x_{ij}}{y_{j}} \\geq q_{ij}^{min}, \\space \\frac{x_{ij}}{y_{j}} \\leq q_{ij}^{max} \\space \\forall i \\in I \\space \\forall j \\in J$ (Quantity)\n",
        "* $\\displaystyle \\sum_{i \\in I}x_{ij} = y_{j}$ (Conservation)"
      ],
      "metadata": {
        "id": "_9hnpHltwTfT"
      }
    },
    {
      "cell_type": "code",
      "execution_count": 17,
      "metadata": {
        "id": "w70VR__XFvNh"
      },
      "outputs": [],
      "source": [
        "# Set of oil types\n",
        "I = range(4) # give number 0-3\n",
        "\n",
        "# Set of gasoline types\n",
        "J = {'A', 'B', 'C'}\n",
        "\n",
        "# Unit cost for oil of type i\n",
        "c = {0:9, 1:7, 2:12, 3:6}\n",
        "\n",
        "# Availability of oil type i\n",
        "b = {0:5000, 1:2400, 2:4000, 3:1500}\n",
        "\n",
        "# Price of gasoline of type j\n",
        "r = {'A':12, 'B':18, 'C':10}\n",
        "\n",
        "# Maximum quantity (percentage) of oil\n",
        "q_max = {}\n",
        "for i in I:\n",
        "  for j in J:\n",
        "    q_max[(str(i),j)] = 1\n",
        "q_max[('2','A')] = 0.3\n",
        "q_max[('1','C')] = 0.5\n",
        "\n",
        "# Minimum quantity (percentage) of oil\n",
        "q_min = {}\n",
        "for i in I:\n",
        "  for j in J:\n",
        "    q_min[(str(i),j)] = 0\n",
        "q_min[('1','A')] = 0.2\n",
        "q_min[('2','B')] = 0.4"
      ]
    },
    {
      "cell_type": "markdown",
      "metadata": {
        "id": "rxibtYYiFvNh"
      },
      "source": [
        "Now we create an empty model and add the variables"
      ]
    },
    {
      "cell_type": "code",
      "execution_count": 18,
      "metadata": {
        "id": "WUyhCOvuFvNh"
      },
      "outputs": [],
      "source": [
        "# Define a model\n",
        "model2 = mip.Model()\n",
        "\n",
        "# Define variables\n",
        "x = {(str(i), j) : model2.add_var(name=str(i) + ',' + j) for i in I for j in J}\n",
        "y = {j : model2.add_var(name=j) for j in J}"
      ]
    },
    {
      "cell_type": "code",
      "execution_count": 19,
      "metadata": {
        "id": "E8Q96EyCFvNh"
      },
      "outputs": [],
      "source": [
        "# Define the objective function\n",
        "model2.objective = mip.maximize(mip.xsum(y[j]*r[j] for j in J) - mip.xsum(c[i]*x[str(i), j] for i in I for j in J))"
      ]
    },
    {
      "cell_type": "code",
      "execution_count": 20,
      "metadata": {
        "id": "GCDwyc7MFvNh"
      },
      "outputs": [],
      "source": [
        "# CONSTRAINTS\n",
        "# Availability constraint\n",
        "for i in I:\n",
        "  model2.add_constr(mip.xsum(x[str(i), j] for j in J) <= b[i])\n",
        "\n",
        "# Conservation constraint\n",
        "for j in J:\n",
        "  model2.add_constr(mip.xsum(x[str(i), j] for i in I) == y[j])\n",
        "\n",
        "# Maximum quantity\n",
        "for i in I:\n",
        "  for j in J:\n",
        "    model2.add_constr(x[str(i), j] <= q_max[str(i), j] * y[j])\n",
        "\n",
        "# Minimum quantity\n",
        "for i in I:\n",
        "  for j in J:\n",
        "    model2.add_constr(x[str(i), j] >= q_min[str(i), j] * y[j])"
      ]
    },
    {
      "cell_type": "markdown",
      "metadata": {
        "id": "z2Gbr4tDFvNh"
      },
      "source": [
        "The model is complete. Let's solve it and print the optimal solution."
      ]
    },
    {
      "cell_type": "code",
      "execution_count": 21,
      "metadata": {
        "colab": {
          "base_uri": "https://localhost:8080/",
          "height": 0
        },
        "id": "ZOP1b_gRFvNh",
        "outputId": "baece861-358a-4deb-8b2f-2765ae2f03f5"
      },
      "outputs": [
        {
          "output_type": "execute_result",
          "data": {
            "text/plain": [
              "<OptimizationStatus.OPTIMAL: 0>"
            ]
          },
          "metadata": {},
          "execution_count": 21
        }
      ],
      "source": [
        "# Optimizing command\n",
        "model2.optimize()"
      ]
    },
    {
      "cell_type": "code",
      "execution_count": 22,
      "metadata": {
        "colab": {
          "base_uri": "https://localhost:8080/",
          "height": 0
        },
        "id": "XwGOSlnwFvNh",
        "outputId": "9501d705-353c-40d4-f2a0-1cf353fa8e90"
      },
      "outputs": [
        {
          "output_type": "execute_result",
          "data": {
            "text/plain": [
              "96000.0"
            ]
          },
          "metadata": {},
          "execution_count": 22
        }
      ],
      "source": [
        "# Optimal objective function value\n",
        "model2.objective.x"
      ]
    },
    {
      "cell_type": "code",
      "execution_count": 23,
      "metadata": {
        "colab": {
          "base_uri": "https://localhost:8080/",
          "height": 0
        },
        "id": "sVmMXsWCFvNi",
        "outputId": "e2f96a7f-c4ac-4560-8861-57045202942c"
      },
      "outputs": [
        {
          "output_type": "stream",
          "name": "stdout",
          "text": [
            "0,A\n",
            "500.0\n",
            "-----\n",
            "0,C\n",
            "0.0\n",
            "-----\n",
            "0,B\n",
            "4500.0\n",
            "-----\n",
            "1,A\n",
            "2400.0\n",
            "-----\n",
            "1,C\n",
            "0.0\n",
            "-----\n",
            "1,B\n",
            "0.0\n",
            "-----\n",
            "2,A\n",
            "0.0\n",
            "-----\n",
            "2,C\n",
            "0.0\n",
            "-----\n",
            "2,B\n",
            "4000.0\n",
            "-----\n",
            "3,A\n",
            "0.0\n",
            "-----\n",
            "3,C\n",
            "0.0\n",
            "-----\n",
            "3,B\n",
            "1500.0\n",
            "-----\n",
            "A\n",
            "2900.0\n",
            "-----\n",
            "C\n",
            "0.0\n",
            "-----\n",
            "B\n",
            "10000.0\n",
            "-----\n"
          ]
        }
      ],
      "source": [
        "# Printing the variables values\n",
        "for i in model2.vars:\n",
        "  print(i.name)\n",
        "  print(i.x)\n",
        "  print('-----')"
      ]
    }
  ],
  "metadata": {
    "colab": {
      "provenance": []
    },
    "kernelspec": {
      "display_name": "Python 3",
      "language": "python",
      "name": "python3"
    },
    "language_info": {
      "codemirror_mode": {
        "name": "ipython",
        "version": 3
      },
      "file_extension": ".py",
      "mimetype": "text/x-python",
      "name": "python",
      "nbconvert_exporter": "python",
      "pygments_lexer": "ipython3",
      "version": "3.6.8"
    }
  },
  "nbformat": 4,
  "nbformat_minor": 0
}